{
 "cells": [
  {
   "cell_type": "markdown",
   "metadata": {},
   "source": [
    "# Bank Loan Prediction"
   ]
  },
  {
   "cell_type": "markdown",
   "metadata": {},
   "source": [
    "**Libraries that will be used are imported.**"
   ]
  },
  {
   "cell_type": "code",
   "execution_count": 1,
   "metadata": {},
   "outputs": [],
   "source": [
    "import numpy as np\n",
    "import pandas as pd\n",
    "from scipy import stats\n",
    "import matplotlib.pyplot as plt\n",
    "import seaborn as sns\n",
    "from sklearn.preprocessing import MinMaxScaler\n",
    "from sklearn.model_selection import train_test_split, GridSearchCV, RandomizedSearchCV\n",
    "from sklearn.linear_model import LinearRegression\n",
    "from sklearn.linear_model import LogisticRegression\n",
    "from sklearn.ensemble import RandomForestClassifier, GradientBoostingClassifier\n",
    "from xgboost import XGBClassifier\n",
    "from sklearn.metrics import r2_score, mean_squared_error\n",
    "from sklearn.metrics import accuracy_score, recall_score, precision_score, f1_score, confusion_matrix\n",
    "from sklearn.metrics import roc_auc_score, roc_curve, precision_recall_curve\n",
    "from sklearn.metrics import classification_report\n",
    "pd.set_option('float_format','{:f}'.format)\n",
    "import warnings\n",
    "warnings.filterwarnings('ignore')\n",
    "%matplotlib inline"
   ]
  },
  {
   "cell_type": "markdown",
   "metadata": {},
   "source": [
    "**The dataset is imported and the first five rows are read.**\n",
    "* __*Reading the columns and first five rows ensures the dataset has been correctly loaded.*__"
   ]
  },
  {
   "cell_type": "code",
   "execution_count": 2,
   "metadata": {
    "scrolled": false
   },
   "outputs": [
    {
     "data": {
      "text/html": [
       "<div>\n",
       "<style scoped>\n",
       "    .dataframe tbody tr th:only-of-type {\n",
       "        vertical-align: middle;\n",
       "    }\n",
       "\n",
       "    .dataframe tbody tr th {\n",
       "        vertical-align: top;\n",
       "    }\n",
       "\n",
       "    .dataframe thead th {\n",
       "        text-align: right;\n",
       "    }\n",
       "</style>\n",
       "<table border=\"1\" class=\"dataframe\">\n",
       "  <thead>\n",
       "    <tr style=\"text-align: right;\">\n",
       "      <th></th>\n",
       "      <th>Loan ID</th>\n",
       "      <th>Customer ID</th>\n",
       "      <th>Loan Status</th>\n",
       "      <th>Current Loan Amount</th>\n",
       "      <th>Term</th>\n",
       "      <th>Credit Score</th>\n",
       "      <th>Years in current job</th>\n",
       "      <th>Home Ownership</th>\n",
       "      <th>Annual Income</th>\n",
       "      <th>Purpose</th>\n",
       "      <th>Monthly Debt</th>\n",
       "      <th>Years of Credit History</th>\n",
       "      <th>Months since last delinquent</th>\n",
       "      <th>Number of Open Accounts</th>\n",
       "      <th>Number of Credit Problems</th>\n",
       "      <th>Current Credit Balance</th>\n",
       "      <th>Maximum Open Credit</th>\n",
       "      <th>Bankruptcies</th>\n",
       "      <th>Tax Liens</th>\n",
       "    </tr>\n",
       "  </thead>\n",
       "  <tbody>\n",
       "    <tr>\n",
       "      <td>0</td>\n",
       "      <td>000025bb-5694-4cff-b17d-192b1a98ba44</td>\n",
       "      <td>5ebc8bb1-5eb9-4404-b11b-a6eebc401a19</td>\n",
       "      <td>Fully Paid</td>\n",
       "      <td>11520</td>\n",
       "      <td>Short Term</td>\n",
       "      <td>741.000000</td>\n",
       "      <td>10+ years</td>\n",
       "      <td>Home Mortgage</td>\n",
       "      <td>33694.000000</td>\n",
       "      <td>Debt Consolidation</td>\n",
       "      <td>$584.03</td>\n",
       "      <td>12.300000</td>\n",
       "      <td>41.000000</td>\n",
       "      <td>10</td>\n",
       "      <td>0</td>\n",
       "      <td>6760</td>\n",
       "      <td>16056</td>\n",
       "      <td>0.000000</td>\n",
       "      <td>0.000000</td>\n",
       "    </tr>\n",
       "    <tr>\n",
       "      <td>1</td>\n",
       "      <td>00002c49-3a29-4bd4-8f67-c8f8fbc1048c</td>\n",
       "      <td>927b388d-2e01-423f-a8dc-f7e42d668f46</td>\n",
       "      <td>Fully Paid</td>\n",
       "      <td>3441</td>\n",
       "      <td>Short Term</td>\n",
       "      <td>734.000000</td>\n",
       "      <td>4 years</td>\n",
       "      <td>Home Mortgage</td>\n",
       "      <td>42269.000000</td>\n",
       "      <td>other</td>\n",
       "      <td>$1,106.04</td>\n",
       "      <td>26.300000</td>\n",
       "      <td>nan</td>\n",
       "      <td>17</td>\n",
       "      <td>0</td>\n",
       "      <td>6262</td>\n",
       "      <td>19149</td>\n",
       "      <td>0.000000</td>\n",
       "      <td>0.000000</td>\n",
       "    </tr>\n",
       "    <tr>\n",
       "      <td>2</td>\n",
       "      <td>00002d89-27f3-409b-aa76-90834f359a65</td>\n",
       "      <td>defce609-c631-447d-aad6-1270615e89c4</td>\n",
       "      <td>Fully Paid</td>\n",
       "      <td>21029</td>\n",
       "      <td>Short Term</td>\n",
       "      <td>747.000000</td>\n",
       "      <td>10+ years</td>\n",
       "      <td>Home Mortgage</td>\n",
       "      <td>90126.000000</td>\n",
       "      <td>Debt Consolidation</td>\n",
       "      <td>$1,321.85</td>\n",
       "      <td>28.800000</td>\n",
       "      <td>nan</td>\n",
       "      <td>5</td>\n",
       "      <td>0</td>\n",
       "      <td>20967</td>\n",
       "      <td>28335</td>\n",
       "      <td>0.000000</td>\n",
       "      <td>0.000000</td>\n",
       "    </tr>\n",
       "    <tr>\n",
       "      <td>3</td>\n",
       "      <td>00005222-b4d8-45a4-ad8c-186057e24233</td>\n",
       "      <td>070bcecb-aae7-4485-a26a-e0403e7bb6c5</td>\n",
       "      <td>Fully Paid</td>\n",
       "      <td>18743</td>\n",
       "      <td>Short Term</td>\n",
       "      <td>747.000000</td>\n",
       "      <td>10+ years</td>\n",
       "      <td>Own Home</td>\n",
       "      <td>38072.000000</td>\n",
       "      <td>Debt Consolidation</td>\n",
       "      <td>$751.92</td>\n",
       "      <td>26.200000</td>\n",
       "      <td>nan</td>\n",
       "      <td>9</td>\n",
       "      <td>0</td>\n",
       "      <td>22529</td>\n",
       "      <td>43915</td>\n",
       "      <td>0.000000</td>\n",
       "      <td>0.000000</td>\n",
       "    </tr>\n",
       "    <tr>\n",
       "      <td>4</td>\n",
       "      <td>0000757f-a121-41ed-b17b-162e76647c1f</td>\n",
       "      <td>dde79588-12f0-4811-bab0-e2b07f633fcd</td>\n",
       "      <td>Fully Paid</td>\n",
       "      <td>11731</td>\n",
       "      <td>Short Term</td>\n",
       "      <td>746.000000</td>\n",
       "      <td>4 years</td>\n",
       "      <td>Rent</td>\n",
       "      <td>50025.000000</td>\n",
       "      <td>Debt Consolidation</td>\n",
       "      <td>$355.18</td>\n",
       "      <td>11.500000</td>\n",
       "      <td>nan</td>\n",
       "      <td>12</td>\n",
       "      <td>0</td>\n",
       "      <td>17391</td>\n",
       "      <td>37081</td>\n",
       "      <td>0.000000</td>\n",
       "      <td>0.000000</td>\n",
       "    </tr>\n",
       "  </tbody>\n",
       "</table>\n",
       "</div>"
      ],
      "text/plain": [
       "                                Loan ID                           Customer ID  \\\n",
       "0  000025bb-5694-4cff-b17d-192b1a98ba44  5ebc8bb1-5eb9-4404-b11b-a6eebc401a19   \n",
       "1  00002c49-3a29-4bd4-8f67-c8f8fbc1048c  927b388d-2e01-423f-a8dc-f7e42d668f46   \n",
       "2  00002d89-27f3-409b-aa76-90834f359a65  defce609-c631-447d-aad6-1270615e89c4   \n",
       "3  00005222-b4d8-45a4-ad8c-186057e24233  070bcecb-aae7-4485-a26a-e0403e7bb6c5   \n",
       "4  0000757f-a121-41ed-b17b-162e76647c1f  dde79588-12f0-4811-bab0-e2b07f633fcd   \n",
       "\n",
       "  Loan Status  Current Loan Amount        Term  Credit Score  \\\n",
       "0  Fully Paid                11520  Short Term    741.000000   \n",
       "1  Fully Paid                 3441  Short Term    734.000000   \n",
       "2  Fully Paid                21029  Short Term    747.000000   \n",
       "3  Fully Paid                18743  Short Term    747.000000   \n",
       "4  Fully Paid                11731  Short Term    746.000000   \n",
       "\n",
       "  Years in current job Home Ownership  Annual Income             Purpose  \\\n",
       "0            10+ years  Home Mortgage   33694.000000  Debt Consolidation   \n",
       "1              4 years  Home Mortgage   42269.000000               other   \n",
       "2            10+ years  Home Mortgage   90126.000000  Debt Consolidation   \n",
       "3            10+ years       Own Home   38072.000000  Debt Consolidation   \n",
       "4              4 years           Rent   50025.000000  Debt Consolidation   \n",
       "\n",
       "  Monthly Debt  Years of Credit History  Months since last delinquent  \\\n",
       "0      $584.03                12.300000                     41.000000   \n",
       "1   $1,106.04                 26.300000                           nan   \n",
       "2   $1,321.85                 28.800000                           nan   \n",
       "3      $751.92                26.200000                           nan   \n",
       "4      $355.18                11.500000                           nan   \n",
       "\n",
       "   Number of Open Accounts  Number of Credit Problems  Current Credit Balance  \\\n",
       "0                       10                          0                    6760   \n",
       "1                       17                          0                    6262   \n",
       "2                        5                          0                   20967   \n",
       "3                        9                          0                   22529   \n",
       "4                       12                          0                   17391   \n",
       "\n",
       "  Maximum Open Credit  Bankruptcies  Tax Liens  \n",
       "0               16056      0.000000   0.000000  \n",
       "1               19149      0.000000   0.000000  \n",
       "2               28335      0.000000   0.000000  \n",
       "3               43915      0.000000   0.000000  \n",
       "4               37081      0.000000   0.000000  "
      ]
     },
     "execution_count": 2,
     "metadata": {},
     "output_type": "execute_result"
    }
   ],
   "source": [
    "bank = pd.read_csv('loan.csv')\n",
    "bank.head()"
   ]
  },
  {
   "cell_type": "markdown",
   "metadata": {},
   "source": [
    "# Data Cleaning"
   ]
  },
  {
   "cell_type": "markdown",
   "metadata": {},
   "source": [
    "### Changing Data Types"
   ]
  },
  {
   "cell_type": "markdown",
   "metadata": {},
   "source": [
    "**Columns \"Maximum Open Credit and \"Monthly Debt\" have incorrect data types.**<br>\n",
    "**Attempting to change the data type, it is made apparent the columns have string values that needs to be addressed.**\n",
    "* _**Column \"Maximum Open Credit\" has \"#VALUE!\" values. These are converted to null values.**_ \n",
    "* _**Column \"Monthly Debt\" has \",\" and \"\\$\" values. These values are removed from the column.**_ <br>\n",
    "\n",
    "**After addressing the issues, the data types are able to be converted without any further complications.**"
   ]
  },
  {
   "cell_type": "code",
   "execution_count": 3,
   "metadata": {},
   "outputs": [
    {
     "name": "stdout",
     "output_type": "stream",
     "text": [
      "The data type for column- 'Maximum Open Credit' is object.\n",
      "The data type for column- 'Monthly Debt' is object.\n"
     ]
    }
   ],
   "source": [
    "print(\"The data type for column- 'Maximum Open Credit' is {}.\".format(bank['Maximum Open Credit'].dtype))\n",
    "print(\"The data type for column- 'Monthly Debt' is {}.\".format(bank['Monthly Debt'].dtype))"
   ]
  },
  {
   "cell_type": "code",
   "execution_count": 4,
   "metadata": {},
   "outputs": [
    {
     "name": "stdout",
     "output_type": "stream",
     "text": [
      "Error. Cannot convert '#VALUE!' to float.\n",
      "Error. Cannot convert '#VALUE!' to float.\n",
      "Error. Cannot convert '#VALUE!' to float.\n",
      "Error. Cannot convert '#VALUE!' to float.\n"
     ]
    }
   ],
   "source": [
    "for ind in range(len(bank)) :\n",
    "    try:\n",
    "        float(bank.loc[ind,'Maximum Open Credit'])\n",
    "    except:\n",
    "        print(\"Error. Cannot convert '{}' to float.\".format(bank.loc[ind,'Maximum Open Credit']))"
   ]
  },
  {
   "cell_type": "code",
   "execution_count": 5,
   "metadata": {},
   "outputs": [],
   "source": [
    "bank.loc[bank['Maximum Open Credit'] == '#VALUE!', 'Maximum Open Credit'] = np.nan"
   ]
  },
  {
   "cell_type": "code",
   "execution_count": 6,
   "metadata": {},
   "outputs": [],
   "source": [
    "bank['Monthly Debt'] = [str(bank.loc[i,'Monthly Debt']).replace('$','').replace(',','').strip() \\\n",
    "                        for i in range(len(bank))]\n"
   ]
  },
  {
   "cell_type": "code",
   "execution_count": 7,
   "metadata": {},
   "outputs": [],
   "source": [
    "bank['Maximum Open Credit'] = bank['Maximum Open Credit'].astype('float')\n",
    "bank['Monthly Debt'] = bank['Monthly Debt'].astype('float')"
   ]
  },
  {
   "cell_type": "markdown",
   "metadata": {},
   "source": [
    "### Dropping Duplicates"
   ]
  },
  {
   "cell_type": "markdown",
   "metadata": {},
   "source": [
    "**The following steps are taken to address duplicated rows:**\n",
    "1. _**The number of each unique loan IDs are counted.**_\n",
    "2. _**The dataset is split into a categorical and numerical dataframe.**_\n",
    "3. _**Columns' data types are reviewed to ensure the dataset has been split correctly.**_\n",
    "4. _**Column \"Loan ID\" is added to the quantitative dataframe.**_\n",
    "5. _**The number of rows from the numerical dataframe after taking the mean of numerical columns grouped by unique loan IDs, and the number of rows from the categorical dataframe after dropping duplicated rows are confirmed.**_\n",
    "6. _**The numerical and categorical dataframes are updated to reflect the duplicated rows that were adressed.**_\n",
    "7. _**The two dataframes are merged back together.**_"
   ]
  },
  {
   "cell_type": "code",
   "execution_count": 8,
   "metadata": {},
   "outputs": [
    {
     "data": {
      "text/plain": [
       "bd25bd00-a856-4e23-a04e-dcaf8b709648    4\n",
       "7bad1468-6981-4b63-a144-9d4bf17aeeaf    4\n",
       "dedbfe25-4ff3-4fa3-a82f-71d9b8df2328    4\n",
       "80e46b94-302f-4a34-8c14-2898969ff287    4\n",
       "91574bf1-7f65-431c-9eab-0bc299976511    4\n",
       "                                       ..\n",
       "190f5e39-9c47-40dc-afa9-569c78767dde    1\n",
       "465da870-e47b-49fa-9f7b-c651e083918b    1\n",
       "1057efa2-2114-4cc1-87b3-d5c250b372ff    1\n",
       "1a803616-25f5-4794-bfde-244155a5bdb6    1\n",
       "20021fc1-ef59-4052-a733-044eb063bc7a    1\n",
       "Name: Loan ID, Length: 215700, dtype: int64"
      ]
     },
     "execution_count": 8,
     "metadata": {},
     "output_type": "execute_result"
    }
   ],
   "source": [
    "bank['Loan ID'].value_counts()"
   ]
  },
  {
   "cell_type": "code",
   "execution_count": 9,
   "metadata": {},
   "outputs": [],
   "source": [
    "dfcat = bank.select_dtypes(exclude = 'number')\n",
    "dfnum = bank.select_dtypes(include = 'number')"
   ]
  },
  {
   "cell_type": "code",
   "execution_count": 10,
   "metadata": {},
   "outputs": [
    {
     "name": "stdout",
     "output_type": "stream",
     "text": [
      "<class 'pandas.core.frame.DataFrame'>\n",
      "RangeIndex: 256984 entries, 0 to 256983\n",
      "Data columns (total 7 columns):\n",
      "Loan ID                 256984 non-null object\n",
      "Customer ID             256984 non-null object\n",
      "Loan Status             256984 non-null object\n",
      "Term                    256984 non-null object\n",
      "Years in current job    245508 non-null object\n",
      "Home Ownership          256984 non-null object\n",
      "Purpose                 256984 non-null object\n",
      "dtypes: object(7)\n",
      "memory usage: 13.7+ MB\n"
     ]
    }
   ],
   "source": [
    "dfcat.info()"
   ]
  },
  {
   "cell_type": "code",
   "execution_count": 11,
   "metadata": {
    "scrolled": true
   },
   "outputs": [
    {
     "name": "stdout",
     "output_type": "stream",
     "text": [
      "<class 'pandas.core.frame.DataFrame'>\n",
      "RangeIndex: 256984 entries, 0 to 256983\n",
      "Data columns (total 12 columns):\n",
      "Current Loan Amount             256984 non-null int64\n",
      "Credit Score                    195308 non-null float64\n",
      "Annual Income                   195308 non-null float64\n",
      "Monthly Debt                    256984 non-null float64\n",
      "Years of Credit History         256984 non-null float64\n",
      "Months since last delinquent    116601 non-null float64\n",
      "Number of Open Accounts         256984 non-null int64\n",
      "Number of Credit Problems       256984 non-null int64\n",
      "Current Credit Balance          256984 non-null int64\n",
      "Maximum Open Credit             256980 non-null float64\n",
      "Bankruptcies                    256455 non-null float64\n",
      "Tax Liens                       256961 non-null float64\n",
      "dtypes: float64(8), int64(4)\n",
      "memory usage: 23.5 MB\n"
     ]
    }
   ],
   "source": [
    "dfnum.info()"
   ]
  },
  {
   "cell_type": "code",
   "execution_count": 12,
   "metadata": {},
   "outputs": [
    {
     "data": {
      "text/html": [
       "<div>\n",
       "<style scoped>\n",
       "    .dataframe tbody tr th:only-of-type {\n",
       "        vertical-align: middle;\n",
       "    }\n",
       "\n",
       "    .dataframe tbody tr th {\n",
       "        vertical-align: top;\n",
       "    }\n",
       "\n",
       "    .dataframe thead th {\n",
       "        text-align: right;\n",
       "    }\n",
       "</style>\n",
       "<table border=\"1\" class=\"dataframe\">\n",
       "  <thead>\n",
       "    <tr style=\"text-align: right;\">\n",
       "      <th></th>\n",
       "      <th>Current Loan Amount</th>\n",
       "      <th>Credit Score</th>\n",
       "      <th>Annual Income</th>\n",
       "      <th>Monthly Debt</th>\n",
       "      <th>Years of Credit History</th>\n",
       "      <th>Months since last delinquent</th>\n",
       "      <th>Number of Open Accounts</th>\n",
       "      <th>Number of Credit Problems</th>\n",
       "      <th>Current Credit Balance</th>\n",
       "      <th>Maximum Open Credit</th>\n",
       "      <th>Bankruptcies</th>\n",
       "      <th>Tax Liens</th>\n",
       "      <th>Loan ID</th>\n",
       "    </tr>\n",
       "  </thead>\n",
       "  <tbody>\n",
       "    <tr>\n",
       "      <td>0</td>\n",
       "      <td>11520</td>\n",
       "      <td>741.000000</td>\n",
       "      <td>33694.000000</td>\n",
       "      <td>584.030000</td>\n",
       "      <td>12.300000</td>\n",
       "      <td>41.000000</td>\n",
       "      <td>10</td>\n",
       "      <td>0</td>\n",
       "      <td>6760</td>\n",
       "      <td>16056.000000</td>\n",
       "      <td>0.000000</td>\n",
       "      <td>0.000000</td>\n",
       "      <td>000025bb-5694-4cff-b17d-192b1a98ba44</td>\n",
       "    </tr>\n",
       "    <tr>\n",
       "      <td>1</td>\n",
       "      <td>3441</td>\n",
       "      <td>734.000000</td>\n",
       "      <td>42269.000000</td>\n",
       "      <td>1106.040000</td>\n",
       "      <td>26.300000</td>\n",
       "      <td>nan</td>\n",
       "      <td>17</td>\n",
       "      <td>0</td>\n",
       "      <td>6262</td>\n",
       "      <td>19149.000000</td>\n",
       "      <td>0.000000</td>\n",
       "      <td>0.000000</td>\n",
       "      <td>00002c49-3a29-4bd4-8f67-c8f8fbc1048c</td>\n",
       "    </tr>\n",
       "    <tr>\n",
       "      <td>2</td>\n",
       "      <td>21029</td>\n",
       "      <td>747.000000</td>\n",
       "      <td>90126.000000</td>\n",
       "      <td>1321.850000</td>\n",
       "      <td>28.800000</td>\n",
       "      <td>nan</td>\n",
       "      <td>5</td>\n",
       "      <td>0</td>\n",
       "      <td>20967</td>\n",
       "      <td>28335.000000</td>\n",
       "      <td>0.000000</td>\n",
       "      <td>0.000000</td>\n",
       "      <td>00002d89-27f3-409b-aa76-90834f359a65</td>\n",
       "    </tr>\n",
       "    <tr>\n",
       "      <td>3</td>\n",
       "      <td>18743</td>\n",
       "      <td>747.000000</td>\n",
       "      <td>38072.000000</td>\n",
       "      <td>751.920000</td>\n",
       "      <td>26.200000</td>\n",
       "      <td>nan</td>\n",
       "      <td>9</td>\n",
       "      <td>0</td>\n",
       "      <td>22529</td>\n",
       "      <td>43915.000000</td>\n",
       "      <td>0.000000</td>\n",
       "      <td>0.000000</td>\n",
       "      <td>00005222-b4d8-45a4-ad8c-186057e24233</td>\n",
       "    </tr>\n",
       "    <tr>\n",
       "      <td>4</td>\n",
       "      <td>11731</td>\n",
       "      <td>746.000000</td>\n",
       "      <td>50025.000000</td>\n",
       "      <td>355.180000</td>\n",
       "      <td>11.500000</td>\n",
       "      <td>nan</td>\n",
       "      <td>12</td>\n",
       "      <td>0</td>\n",
       "      <td>17391</td>\n",
       "      <td>37081.000000</td>\n",
       "      <td>0.000000</td>\n",
       "      <td>0.000000</td>\n",
       "      <td>0000757f-a121-41ed-b17b-162e76647c1f</td>\n",
       "    </tr>\n",
       "  </tbody>\n",
       "</table>\n",
       "</div>"
      ],
      "text/plain": [
       "   Current Loan Amount  Credit Score  Annual Income  Monthly Debt  \\\n",
       "0                11520    741.000000   33694.000000    584.030000   \n",
       "1                 3441    734.000000   42269.000000   1106.040000   \n",
       "2                21029    747.000000   90126.000000   1321.850000   \n",
       "3                18743    747.000000   38072.000000    751.920000   \n",
       "4                11731    746.000000   50025.000000    355.180000   \n",
       "\n",
       "   Years of Credit History  Months since last delinquent  \\\n",
       "0                12.300000                     41.000000   \n",
       "1                26.300000                           nan   \n",
       "2                28.800000                           nan   \n",
       "3                26.200000                           nan   \n",
       "4                11.500000                           nan   \n",
       "\n",
       "   Number of Open Accounts  Number of Credit Problems  Current Credit Balance  \\\n",
       "0                       10                          0                    6760   \n",
       "1                       17                          0                    6262   \n",
       "2                        5                          0                   20967   \n",
       "3                        9                          0                   22529   \n",
       "4                       12                          0                   17391   \n",
       "\n",
       "   Maximum Open Credit  Bankruptcies  Tax Liens  \\\n",
       "0         16056.000000      0.000000   0.000000   \n",
       "1         19149.000000      0.000000   0.000000   \n",
       "2         28335.000000      0.000000   0.000000   \n",
       "3         43915.000000      0.000000   0.000000   \n",
       "4         37081.000000      0.000000   0.000000   \n",
       "\n",
       "                                Loan ID  \n",
       "0  000025bb-5694-4cff-b17d-192b1a98ba44  \n",
       "1  00002c49-3a29-4bd4-8f67-c8f8fbc1048c  \n",
       "2  00002d89-27f3-409b-aa76-90834f359a65  \n",
       "3  00005222-b4d8-45a4-ad8c-186057e24233  \n",
       "4  0000757f-a121-41ed-b17b-162e76647c1f  "
      ]
     },
     "execution_count": 12,
     "metadata": {},
     "output_type": "execute_result"
    }
   ],
   "source": [
    "dfnum['Loan ID'] = bank['Loan ID']\n",
    "dfnum.head()"
   ]
  },
  {
   "cell_type": "code",
   "execution_count": 13,
   "metadata": {},
   "outputs": [
    {
     "data": {
      "text/plain": [
       "215700"
      ]
     },
     "execution_count": 13,
     "metadata": {},
     "output_type": "execute_result"
    }
   ],
   "source": [
    "len(dfnum.groupby('Loan ID').mean())"
   ]
  },
  {
   "cell_type": "code",
   "execution_count": 14,
   "metadata": {},
   "outputs": [
    {
     "data": {
      "text/plain": [
       "215700"
      ]
     },
     "execution_count": 14,
     "metadata": {},
     "output_type": "execute_result"
    }
   ],
   "source": [
    "len(dfcat.drop_duplicates(subset=['Loan ID']))"
   ]
  },
  {
   "cell_type": "code",
   "execution_count": 15,
   "metadata": {},
   "outputs": [],
   "source": [
    "dfcat = dfcat.drop_duplicates(subset = ['Loan ID'])\n",
    "dfnum = dfnum.groupby('Loan ID').mean().reset_index()"
   ]
  },
  {
   "cell_type": "code",
   "execution_count": 16,
   "metadata": {},
   "outputs": [],
   "source": [
    "merged_df = dfnum.merge(dfcat) #The merge method will automatically detect identical column names to merge on"
   ]
  },
  {
   "cell_type": "markdown",
   "metadata": {},
   "source": [
    "**Columns \"Loan ID\" and \"Customer ID\" are dropped.**"
   ]
  },
  {
   "cell_type": "code",
   "execution_count": 17,
   "metadata": {},
   "outputs": [],
   "source": [
    "df = merged_df.drop(['Loan ID','Customer ID'], axis = 1)"
   ]
  },
  {
   "cell_type": "markdown",
   "metadata": {},
   "source": [
    "**The merged dataframe is reviewed and two conclusions are drawn:**\n",
    "* _**Data types are correct.**_\n",
    "* _**There are a total of 215700 rows and some columns have missing values.**_"
   ]
  },
  {
   "cell_type": "code",
   "execution_count": 18,
   "metadata": {
    "scrolled": false
   },
   "outputs": [
    {
     "name": "stdout",
     "output_type": "stream",
     "text": [
      "<class 'pandas.core.frame.DataFrame'>\n",
      "Int64Index: 215700 entries, 0 to 215699\n",
      "Data columns (total 17 columns):\n",
      "Current Loan Amount             215700 non-null float64\n",
      "Credit Score                    171202 non-null float64\n",
      "Annual Income                   171202 non-null float64\n",
      "Monthly Debt                    215700 non-null float64\n",
      "Years of Credit History         215700 non-null float64\n",
      "Months since last delinquent    97438 non-null float64\n",
      "Number of Open Accounts         215700 non-null float64\n",
      "Number of Credit Problems       215700 non-null float64\n",
      "Current Credit Balance          215700 non-null float64\n",
      "Maximum Open Credit             215698 non-null float64\n",
      "Bankruptcies                    215248 non-null float64\n",
      "Tax Liens                       215678 non-null float64\n",
      "Loan Status                     215700 non-null object\n",
      "Term                            215700 non-null object\n",
      "Years in current job            206710 non-null object\n",
      "Home Ownership                  215700 non-null object\n",
      "Purpose                         215700 non-null object\n",
      "dtypes: float64(12), object(5)\n",
      "memory usage: 29.6+ MB\n"
     ]
    }
   ],
   "source": [
    "df.info()"
   ]
  },
  {
   "cell_type": "markdown",
   "metadata": {},
   "source": [
    "### Inconsistent Values"
   ]
  },
  {
   "cell_type": "markdown",
   "metadata": {},
   "source": [
    "**Unique values are reviewed for columns \"Home Ownership\" and \"Purpose.\"**\n",
    "* _**Inconsistent values are addressed to make similar values uniform.**_"
   ]
  },
  {
   "cell_type": "code",
   "execution_count": 19,
   "metadata": {},
   "outputs": [
    {
     "data": {
      "text/plain": [
       "array(['Home Mortgage', 'Own Home', 'Rent', 'HaveMortgage'], dtype=object)"
      ]
     },
     "execution_count": 19,
     "metadata": {},
     "output_type": "execute_result"
    }
   ],
   "source": [
    "df['Home Ownership'].unique()"
   ]
  },
  {
   "cell_type": "code",
   "execution_count": 20,
   "metadata": {},
   "outputs": [],
   "source": [
    "df['Home Ownership'].replace('HaveMortgage','Home Mortgage', inplace = True)"
   ]
  },
  {
   "cell_type": "code",
   "execution_count": 21,
   "metadata": {},
   "outputs": [
    {
     "data": {
      "text/plain": [
       "array(['Debt Consolidation', 'other', 'Business Loan',\n",
       "       'Home Improvements', 'Buy House', 'Other', 'Buy a Car',\n",
       "       'Medical Bills', 'Take a Trip', 'Educational Expenses'],\n",
       "      dtype=object)"
      ]
     },
     "execution_count": 21,
     "metadata": {},
     "output_type": "execute_result"
    }
   ],
   "source": [
    "df['Purpose'].unique()"
   ]
  },
  {
   "cell_type": "code",
   "execution_count": 22,
   "metadata": {},
   "outputs": [],
   "source": [
    "df['Purpose'].replace('other', 'Other', inplace = True)"
   ]
  },
  {
   "cell_type": "markdown",
   "metadata": {},
   "source": [
    "**Unique values are reviewed for column \"Years in current job.\"**\n",
    "* _**Special characters are replaced with their words.**_"
   ]
  },
  {
   "cell_type": "code",
   "execution_count": 23,
   "metadata": {},
   "outputs": [
    {
     "data": {
      "text/plain": [
       "array(['10+ years', '4 years', '6 years', '5 years', nan, '3 years',\n",
       "       '2 years', '< 1 year', '1 year', '7 years', '9 years', '8 years'],\n",
       "      dtype=object)"
      ]
     },
     "execution_count": 23,
     "metadata": {},
     "output_type": "execute_result"
    }
   ],
   "source": [
    "df['Years in current job'].unique()"
   ]
  },
  {
   "cell_type": "markdown",
   "metadata": {},
   "source": [
    "Values 10+ years and < 1 year will be converted to less than 1 year and 10 or more years, respectively."
   ]
  },
  {
   "cell_type": "code",
   "execution_count": 24,
   "metadata": {},
   "outputs": [],
   "source": [
    "df['Years in current job'].replace(['< 1 year','10+ years'],['less than 1 year','10 or more years'],\\\n",
    "                                   inplace = True)"
   ]
  },
  {
   "cell_type": "markdown",
   "metadata": {},
   "source": [
    "## Outlier Removal"
   ]
  },
  {
   "cell_type": "markdown",
   "metadata": {},
   "source": [
    "**Statistics for each numerical column are reviewed.**\n",
    "* _**Result: Columns \"Current Loan Amount\" and \"Credit Score\" have abnormally high maximum values.**_"
   ]
  },
  {
   "cell_type": "code",
   "execution_count": 25,
   "metadata": {
    "scrolled": true
   },
   "outputs": [
    {
     "data": {
      "text/html": [
       "<div>\n",
       "<style scoped>\n",
       "    .dataframe tbody tr th:only-of-type {\n",
       "        vertical-align: middle;\n",
       "    }\n",
       "\n",
       "    .dataframe tbody tr th {\n",
       "        vertical-align: top;\n",
       "    }\n",
       "\n",
       "    .dataframe thead th {\n",
       "        text-align: right;\n",
       "    }\n",
       "</style>\n",
       "<table border=\"1\" class=\"dataframe\">\n",
       "  <thead>\n",
       "    <tr style=\"text-align: right;\">\n",
       "      <th></th>\n",
       "      <th>Current Loan Amount</th>\n",
       "      <th>Credit Score</th>\n",
       "      <th>Annual Income</th>\n",
       "      <th>Monthly Debt</th>\n",
       "      <th>Years of Credit History</th>\n",
       "      <th>Months since last delinquent</th>\n",
       "      <th>Number of Open Accounts</th>\n",
       "      <th>Number of Credit Problems</th>\n",
       "      <th>Current Credit Balance</th>\n",
       "      <th>Maximum Open Credit</th>\n",
       "      <th>Bankruptcies</th>\n",
       "      <th>Tax Liens</th>\n",
       "    </tr>\n",
       "  </thead>\n",
       "  <tbody>\n",
       "    <tr>\n",
       "      <td>count</td>\n",
       "      <td>215700.000000</td>\n",
       "      <td>171202.000000</td>\n",
       "      <td>171202.000000</td>\n",
       "      <td>215700.000000</td>\n",
       "      <td>215700.000000</td>\n",
       "      <td>97438.000000</td>\n",
       "      <td>215700.000000</td>\n",
       "      <td>215700.000000</td>\n",
       "      <td>215700.000000</td>\n",
       "      <td>215698.000000</td>\n",
       "      <td>215248.000000</td>\n",
       "      <td>215678.000000</td>\n",
       "    </tr>\n",
       "    <tr>\n",
       "      <td>mean</td>\n",
       "      <td>16335150.286818</td>\n",
       "      <td>1091.488058</td>\n",
       "      <td>72804.519452</td>\n",
       "      <td>960.395422</td>\n",
       "      <td>18.359758</td>\n",
       "      <td>35.031949</td>\n",
       "      <td>11.077566</td>\n",
       "      <td>0.155424</td>\n",
       "      <td>15457.197215</td>\n",
       "      <td>36983.805050</td>\n",
       "      <td>0.110556</td>\n",
       "      <td>0.026331</td>\n",
       "    </tr>\n",
       "    <tr>\n",
       "      <td>std</td>\n",
       "      <td>36953066.693433</td>\n",
       "      <td>1297.734253</td>\n",
       "      <td>57304.947573</td>\n",
       "      <td>634.781881</td>\n",
       "      <td>7.057999</td>\n",
       "      <td>21.810714</td>\n",
       "      <td>4.971825</td>\n",
       "      <td>0.457972</td>\n",
       "      <td>19750.328979</td>\n",
       "      <td>601180.467425</td>\n",
       "      <td>0.336853</td>\n",
       "      <td>0.240853</td>\n",
       "    </tr>\n",
       "    <tr>\n",
       "      <td>min</td>\n",
       "      <td>505.000000</td>\n",
       "      <td>585.000000</td>\n",
       "      <td>0.000000</td>\n",
       "      <td>0.000000</td>\n",
       "      <td>3.400000</td>\n",
       "      <td>0.000000</td>\n",
       "      <td>0.000000</td>\n",
       "      <td>0.000000</td>\n",
       "      <td>0.000000</td>\n",
       "      <td>0.000000</td>\n",
       "      <td>0.000000</td>\n",
       "      <td>0.000000</td>\n",
       "    </tr>\n",
       "    <tr>\n",
       "      <td>25%</td>\n",
       "      <td>8328.000000</td>\n",
       "      <td>716.000000</td>\n",
       "      <td>44766.000000</td>\n",
       "      <td>527.680000</td>\n",
       "      <td>13.600000</td>\n",
       "      <td>17.000000</td>\n",
       "      <td>8.000000</td>\n",
       "      <td>0.000000</td>\n",
       "      <td>5932.000000</td>\n",
       "      <td>12961.250000</td>\n",
       "      <td>0.000000</td>\n",
       "      <td>0.000000</td>\n",
       "    </tr>\n",
       "    <tr>\n",
       "      <td>50%</td>\n",
       "      <td>14642.000000</td>\n",
       "      <td>735.000000</td>\n",
       "      <td>62105.000000</td>\n",
       "      <td>840.535000</td>\n",
       "      <td>17.000000</td>\n",
       "      <td>32.000000</td>\n",
       "      <td>10.000000</td>\n",
       "      <td>0.000000</td>\n",
       "      <td>11042.000000</td>\n",
       "      <td>22060.000000</td>\n",
       "      <td>0.000000</td>\n",
       "      <td>0.000000</td>\n",
       "    </tr>\n",
       "    <tr>\n",
       "      <td>75%</td>\n",
       "      <td>25208.000000</td>\n",
       "      <td>745.000000</td>\n",
       "      <td>87794.250000</td>\n",
       "      <td>1249.975000</td>\n",
       "      <td>21.800000</td>\n",
       "      <td>51.000000</td>\n",
       "      <td>14.000000</td>\n",
       "      <td>0.000000</td>\n",
       "      <td>19324.250000</td>\n",
       "      <td>36810.000000</td>\n",
       "      <td>0.000000</td>\n",
       "      <td>0.000000</td>\n",
       "    </tr>\n",
       "    <tr>\n",
       "      <td>max</td>\n",
       "      <td>99999999.000000</td>\n",
       "      <td>7510.000000</td>\n",
       "      <td>8713547.000000</td>\n",
       "      <td>22939.120000</td>\n",
       "      <td>70.500000</td>\n",
       "      <td>176.000000</td>\n",
       "      <td>76.000000</td>\n",
       "      <td>11.000000</td>\n",
       "      <td>1731412.000000</td>\n",
       "      <td>176332155.000000</td>\n",
       "      <td>7.000000</td>\n",
       "      <td>11.000000</td>\n",
       "    </tr>\n",
       "  </tbody>\n",
       "</table>\n",
       "</div>"
      ],
      "text/plain": [
       "       Current Loan Amount  Credit Score  Annual Income  Monthly Debt  \\\n",
       "count        215700.000000 171202.000000  171202.000000 215700.000000   \n",
       "mean       16335150.286818   1091.488058   72804.519452    960.395422   \n",
       "std        36953066.693433   1297.734253   57304.947573    634.781881   \n",
       "min             505.000000    585.000000       0.000000      0.000000   \n",
       "25%            8328.000000    716.000000   44766.000000    527.680000   \n",
       "50%           14642.000000    735.000000   62105.000000    840.535000   \n",
       "75%           25208.000000    745.000000   87794.250000   1249.975000   \n",
       "max        99999999.000000   7510.000000 8713547.000000  22939.120000   \n",
       "\n",
       "       Years of Credit History  Months since last delinquent  \\\n",
       "count            215700.000000                  97438.000000   \n",
       "mean                 18.359758                     35.031949   \n",
       "std                   7.057999                     21.810714   \n",
       "min                   3.400000                      0.000000   \n",
       "25%                  13.600000                     17.000000   \n",
       "50%                  17.000000                     32.000000   \n",
       "75%                  21.800000                     51.000000   \n",
       "max                  70.500000                    176.000000   \n",
       "\n",
       "       Number of Open Accounts  Number of Credit Problems  \\\n",
       "count            215700.000000              215700.000000   \n",
       "mean                 11.077566                   0.155424   \n",
       "std                   4.971825                   0.457972   \n",
       "min                   0.000000                   0.000000   \n",
       "25%                   8.000000                   0.000000   \n",
       "50%                  10.000000                   0.000000   \n",
       "75%                  14.000000                   0.000000   \n",
       "max                  76.000000                  11.000000   \n",
       "\n",
       "       Current Credit Balance  Maximum Open Credit  Bankruptcies     Tax Liens  \n",
       "count           215700.000000        215698.000000 215248.000000 215678.000000  \n",
       "mean             15457.197215         36983.805050      0.110556      0.026331  \n",
       "std              19750.328979        601180.467425      0.336853      0.240853  \n",
       "min                  0.000000             0.000000      0.000000      0.000000  \n",
       "25%               5932.000000         12961.250000      0.000000      0.000000  \n",
       "50%              11042.000000         22060.000000      0.000000      0.000000  \n",
       "75%              19324.250000         36810.000000      0.000000      0.000000  \n",
       "max            1731412.000000     176332155.000000      7.000000     11.000000  "
      ]
     },
     "execution_count": 25,
     "metadata": {},
     "output_type": "execute_result"
    }
   ],
   "source": [
    "df.describe()"
   ]
  },
  {
   "cell_type": "markdown",
   "metadata": {},
   "source": [
    "**A function is introduced to visualize a column's distribution as well as its outliers.**"
   ]
  },
  {
   "cell_type": "code",
   "execution_count": 26,
   "metadata": {},
   "outputs": [],
   "source": [
    "def viz(data,col,title) : \n",
    "    filled = data[data[col].notnull()]\n",
    "    \n",
    "    fig, axs = plt.subplots(nrows = 1, ncols = 2, figsize = (15,6))\n",
    "    sns.distplot(filled[col], kde = False, ax = axs[0])\n",
    "    axs[0].set_title(col + ' Distribution')\n",
    "    sns.boxplot(y = filled[col], ax = axs[1])\n",
    "    axs[1].set_title(col + ' Outlier Detection')\n",
    "    axs[1].set_ylabel('')\n",
    "    \n",
    "    fig.suptitle(title, fontsize = 30)\n",
    "    fig.tight_layout(rect = [0,0,1,0.92])"
   ]
  },
  {
   "cell_type": "code",
   "execution_count": 27,
   "metadata": {},
   "outputs": [
    {
     "data": {
      "image/png": "[encoded data removed]",
      "text/plain": [
       "<Figure size 1080x432 with 2 Axes>"
      ]
     },
     "metadata": {
      "needs_background": "light"
     },
     "output_type": "display_data"
    }
   ],
   "source": [
    "viz(df,'Current Loan Amount','Visualization Before Outlier Removal')"
   ]
  },
  {
   "cell_type": "code",
   "execution_count": 28,
   "metadata": {},
   "outputs": [
    {
     "data": {
      "image/png": "[encoded data removed]",
      "text/plain": [
       "<Figure size 1080x432 with 2 Axes>"
      ]
     },
     "metadata": {
      "needs_background": "light"
     },
     "output_type": "display_data"
    }
   ],
   "source": [
    "viz(df,'Credit Score','Visualization Before Outlier Removal')"
   ]
  },
  {
   "cell_type": "markdown",
   "metadata": {},
   "source": [
    "**The extreme values for the \"Current Loan Amount\" column are converted to null values.**<br>\n",
    "**The extreme values for the \"Credit Score\" column are divided by 10.**"
   ]
  },
  {
   "cell_type": "code",
   "execution_count": 29,
   "metadata": {},
   "outputs": [],
   "source": [
    "df.loc[df['Current Loan Amount'] == df['Current Loan Amount'].max(),'Current Loan Amount'] = np.nan\n",
    "df['Credit Score'] = df['Credit Score'].apply(lambda x : x / 10 if x > 1000 else x)"
   ]
  },
  {
   "cell_type": "markdown",
   "metadata": {},
   "source": [
    "# EDA - Exploratory Data Analysis"
   ]
  },
  {
   "cell_type": "markdown",
   "metadata": {},
   "source": [
    "**The percent of each unique value for the target column \"Loan Status\" is calculated.**\n",
    "* _**Analysis: The target column is imbalanced.**_"
   ]
  },
  {
   "cell_type": "code",
   "execution_count": 30,
   "metadata": {},
   "outputs": [
    {
     "data": {
      "text/plain": [
       "array(['Fully Paid', 'Charged Off'], dtype=object)"
      ]
     },
     "execution_count": 30,
     "metadata": {},
     "output_type": "execute_result"
    }
   ],
   "source": [
    "df['Loan Status'].unique()"
   ]
  },
  {
   "cell_type": "code",
   "execution_count": 31,
   "metadata": {},
   "outputs": [
    {
     "data": {
      "image/png": "[encoded data removed]",
      "text/plain": [
       "<Figure size 1080x432 with 1 Axes>"
      ]
     },
     "metadata": {
      "needs_background": "light"
     },
     "output_type": "display_data"
    }
   ],
   "source": [
    "fig, ax = plt.subplots(figsize=(15, 6))\n",
    "ax = sns.countplot(x=\"Loan Status\", data=df)\n",
    "ax.set_xticks([0,1])\n",
    "ax.set_xticklabels(['Fully Paid','Charged Off'])\n",
    "plt.show()"
   ]
  },
  {
   "cell_type": "code",
   "execution_count": 32,
   "metadata": {},
   "outputs": [
    {
     "data": {
      "text/plain": [
       "Fully Paid     176191\n",
       "Charged Off     39509\n",
       "Name: Loan Status, dtype: int64"
      ]
     },
     "execution_count": 32,
     "metadata": {},
     "output_type": "execute_result"
    }
   ],
   "source": [
    "df['Loan Status'].value_counts()"
   ]
  },
  {
   "cell_type": "code",
   "execution_count": 33,
   "metadata": {
    "scrolled": true
   },
   "outputs": [
    {
     "name": "stdout",
     "output_type": "stream",
     "text": [
      "The percent of \"Fully Paid\" loans: 82%\n",
      "The percent of \"Charged Off\" loans: 18%\n"
     ]
    }
   ],
   "source": [
    "print('The percent of \"Fully Paid\" loans: {:.0%}'.format((len(df[df['Loan Status'] == 'Fully Paid'])/len(df))))\n",
    "print('The percent of \"Charged Off\" loans: {:.0%}'.format((len(df[df['Loan Status'] == 'Charged Off'])/len(df))))"
   ]
  },
  {
   "cell_type": "markdown",
   "metadata": {},
   "source": [
    "## Missing Values Imputation"
   ]
  },
  {
   "cell_type": "markdown",
   "metadata": {},
   "source": [
    "**A function that returns a dataframe outlining the percent and number of null values for each column that has null values is introduced.**"
   ]
  },
  {
   "cell_type": "code",
   "execution_count": 34,
   "metadata": {},
   "outputs": [],
   "source": [
    "def calculate_null (data) :\n",
    "    null_val = (data.isnull().sum() / len(data)) * 100\n",
    "    null_data = pd.DataFrame(data = {'null_percent': null_val, 'null_num' : data.isnull().sum()}, index = data.columns)\n",
    "    null_data = null_data[null_data['null_percent'] != 0]\n",
    "    return null_data.sort_values(by = 'null_percent',ascending = False) "
   ]
  },
  {
   "cell_type": "code",
   "execution_count": 35,
   "metadata": {},
   "outputs": [
    {
     "data": {
      "text/html": [
       "<div>\n",
       "<style scoped>\n",
       "    .dataframe tbody tr th:only-of-type {\n",
       "        vertical-align: middle;\n",
       "    }\n",
       "\n",
       "    .dataframe tbody tr th {\n",
       "        vertical-align: top;\n",
       "    }\n",
       "\n",
       "    .dataframe thead th {\n",
       "        text-align: right;\n",
       "    }\n",
       "</style>\n",
       "<table border=\"1\" class=\"dataframe\">\n",
       "  <thead>\n",
       "    <tr style=\"text-align: right;\">\n",
       "      <th></th>\n",
       "      <th>null_percent</th>\n",
       "      <th>null_num</th>\n",
       "    </tr>\n",
       "  </thead>\n",
       "  <tbody>\n",
       "    <tr>\n",
       "      <td>Months since last delinquent</td>\n",
       "      <td>54.827075</td>\n",
       "      <td>118262</td>\n",
       "    </tr>\n",
       "    <tr>\n",
       "      <td>Credit Score</td>\n",
       "      <td>20.629578</td>\n",
       "      <td>44498</td>\n",
       "    </tr>\n",
       "    <tr>\n",
       "      <td>Annual Income</td>\n",
       "      <td>20.629578</td>\n",
       "      <td>44498</td>\n",
       "    </tr>\n",
       "    <tr>\n",
       "      <td>Current Loan Amount</td>\n",
       "      <td>16.323598</td>\n",
       "      <td>35210</td>\n",
       "    </tr>\n",
       "    <tr>\n",
       "      <td>Years in current job</td>\n",
       "      <td>4.167826</td>\n",
       "      <td>8990</td>\n",
       "    </tr>\n",
       "    <tr>\n",
       "      <td>Bankruptcies</td>\n",
       "      <td>0.209550</td>\n",
       "      <td>452</td>\n",
       "    </tr>\n",
       "    <tr>\n",
       "      <td>Tax Liens</td>\n",
       "      <td>0.010199</td>\n",
       "      <td>22</td>\n",
       "    </tr>\n",
       "    <tr>\n",
       "      <td>Maximum Open Credit</td>\n",
       "      <td>0.000927</td>\n",
       "      <td>2</td>\n",
       "    </tr>\n",
       "  </tbody>\n",
       "</table>\n",
       "</div>"
      ],
      "text/plain": [
       "                              null_percent  null_num\n",
       "Months since last delinquent     54.827075    118262\n",
       "Credit Score                     20.629578     44498\n",
       "Annual Income                    20.629578     44498\n",
       "Current Loan Amount              16.323598     35210\n",
       "Years in current job              4.167826      8990\n",
       "Bankruptcies                      0.209550       452\n",
       "Tax Liens                         0.010199        22\n",
       "Maximum Open Credit               0.000927         2"
      ]
     },
     "execution_count": 35,
     "metadata": {},
     "output_type": "execute_result"
    }
   ],
   "source": [
    "calculate_null(df)"
   ]
  },
  {
   "cell_type": "markdown",
   "metadata": {},
   "source": [
    "**The methods used to impute null values are explained below:**\n",
    "* _**Column \"Months since last delinquent\" - More than 50% of the values are missing. The column has been dropped.**_\n",
    "* _**Column \"Bankruptcies\" - A little more than 2% have missing values. The rows with missing values have been dropped.**_\n",
    "* _**Column \"Maximum Open Credit\" - There are only two missing values. The missing values have been replaced with the column's median value.**_\n",
    "* _**Column \"Years in current job\" - There is no sufficient information gained to correctly impute the missing values. A new value is introduced to replace the missing values.**_\n",
    "* _**Column \"Credit Score\" - The dataframe is grouped by the unique values from column \"Number of Credit Problems,\" and the credit score median value for each group is used to replace the missing values.**_\n",
    "* _**Column \"Current Loan Amount\" - Boxplots are visualized to determine features that will be used to fill in the missing values. The dataframe is then grouped by the unique values from the features, and the current loan amount median value for each group is used to replace the missing value.**_\n",
    "* _**Column \"Annual Income\" - Features are used to impute the missing values through regression.**_"
   ]
  },
  {
   "cell_type": "code",
   "execution_count": 36,
   "metadata": {},
   "outputs": [],
   "source": [
    "df.drop('Months since last delinquent',axis = 1, inplace = True)"
   ]
  },
  {
   "cell_type": "code",
   "execution_count": 37,
   "metadata": {},
   "outputs": [
    {
     "data": {
      "text/plain": [
       "0.000000    192727\n",
       "1.000000     21506\n",
       "2.000000       818\n",
       "nan            452\n",
       "3.000000       155\n",
       "4.000000        25\n",
       "5.000000        13\n",
       "6.000000         3\n",
       "7.000000         1\n",
       "Name: Bankruptcies, dtype: int64"
      ]
     },
     "execution_count": 37,
     "metadata": {},
     "output_type": "execute_result"
    }
   ],
   "source": [
    "df.Bankruptcies.value_counts(dropna = False)"
   ]
  },
  {
   "cell_type": "code",
   "execution_count": 38,
   "metadata": {},
   "outputs": [],
   "source": [
    "df.dropna(subset = ['Bankruptcies'], axis = 0, inplace = True)"
   ]
  },
  {
   "cell_type": "code",
   "execution_count": 39,
   "metadata": {},
   "outputs": [],
   "source": [
    "df['Maximum Open Credit'].fillna(df['Maximum Open Credit'].median(),inplace = True)"
   ]
  },
  {
   "cell_type": "code",
   "execution_count": 40,
   "metadata": {},
   "outputs": [
    {
     "data": {
      "text/plain": [
       "10 or more years    66628\n",
       "2 years             19778\n",
       "less than 1 year    17432\n",
       "3 years             17388\n",
       "5 years             14967\n",
       "1 year              14069\n",
       "4 years             13601\n",
       "6 years             12208\n",
       "7 years             11702\n",
       "8 years             10224\n",
       "NaN                  8990\n",
       "9 years              8261\n",
       "Name: Years in current job, dtype: int64"
      ]
     },
     "execution_count": 40,
     "metadata": {},
     "output_type": "execute_result"
    }
   ],
   "source": [
    "df['Years in current job'].value_counts(dropna = False)"
   ]
  },
  {
   "cell_type": "code",
   "execution_count": 41,
   "metadata": {},
   "outputs": [],
   "source": [
    "df['Years in current job'].replace(np.nan, 'unknown', inplace = True)"
   ]
  },
  {
   "cell_type": "code",
   "execution_count": 42,
   "metadata": {},
   "outputs": [
    {
     "data": {
      "text/plain": [
       "Number of Credit Problems\n",
       "0.000000    731.000000\n",
       "1.000000    726.000000\n",
       "2.000000    721.000000\n",
       "3.000000    720.000000\n",
       "4.000000    719.000000\n",
       "5.000000    724.000000\n",
       "6.000000    733.000000\n",
       "7.000000    737.000000\n",
       "8.000000    723.000000\n",
       "9.000000    718.000000\n",
       "10.000000   740.000000\n",
       "11.000000   712.000000\n",
       "Name: Credit Score, dtype: float64"
      ]
     },
     "execution_count": 42,
     "metadata": {},
     "output_type": "execute_result"
    }
   ],
   "source": [
    "df.groupby('Number of Credit Problems')['Credit Score'].median()"
   ]
  },
  {
   "cell_type": "code",
   "execution_count": 43,
   "metadata": {},
   "outputs": [],
   "source": [
    "df['Credit Score'].fillna(df.groupby('Number of Credit Problems')['Credit Score'].transform('median'), inplace = True)"
   ]
  },
  {
   "cell_type": "code",
   "execution_count": 44,
   "metadata": {},
   "outputs": [],
   "source": [
    "def plot_biboxplot(data,rows,cols,target,col_list) :\n",
    "\n",
    "    fig,axs = plt.subplots(nrows = rows, ncols = cols, figsize = (15,8))\n",
    "    \n",
    "    index = 0\n",
    "\n",
    "    for i in range(rows) :\n",
    "        for j in range(cols) :\n",
    "            sns.boxplot(x = col_list[index],y = target ,data = data, ax = axs[i][j])\n",
    "            axs[i][j].set_xticklabels(labels = data[col_list[index]].unique(),rotation = 40)\n",
    "            index += 1\n",
    "    \n",
    "    fig.suptitle('Current Loan Amount Median Variation by Nomial Values', fontsize = 30)\n",
    "    fig.tight_layout(rect = [0,0,1,0.92])"
   ]
  },
  {
   "cell_type": "code",
   "execution_count": 45,
   "metadata": {},
   "outputs": [
    {
     "data": {
      "image/png": "[encoded data removed]",
      "text/plain": [
       "<Figure size 1080x576 with 4 Axes>"
      ]
     },
     "metadata": {
      "needs_background": "light"
     },
     "output_type": "display_data"
    }
   ],
   "source": [
    "plot_biboxplot(data = df,rows = 2,cols = 2,\n",
    "            target = 'Current Loan Amount',\n",
    "            col_list = ['Term','Years in current job','Home Ownership','Purpose'])"
   ]
  },
  {
   "cell_type": "code",
   "execution_count": 46,
   "metadata": {},
   "outputs": [
    {
     "data": {
      "text/plain": [
       "Purpose               Home Ownership  Term      \n",
       "Business Loan         Home Mortgage   Long Term    21812.000000\n",
       "                                      Short Term   12266.000000\n",
       "                      Own Home        Long Term    20418.000000\n",
       "                                      Short Term   10157.000000\n",
       "                      Rent            Long Term    17866.000000\n",
       "                                      Short Term    9878.000000\n",
       "Buy House             Home Mortgage   Long Term    21683.500000\n",
       "                                      Short Term   12226.000000\n",
       "                      Own Home        Long Term    19582.500000\n",
       "                                      Short Term   13067.000000\n",
       "                      Rent            Long Term    17831.000000\n",
       "                                      Short Term    9956.500000\n",
       "Buy a Car             Home Mortgage   Long Term     8738.000000\n",
       "                                      Short Term    5953.500000\n",
       "                      Own Home        Long Term    10076.000000\n",
       "                                      Short Term    5397.000000\n",
       "                      Rent            Long Term    10476.500000\n",
       "                                      Short Term    6031.000000\n",
       "Debt Consolidation    Home Mortgage   Long Term    20169.000000\n",
       "                                      Short Term   12120.000000\n",
       "                      Own Home        Long Term    18731.000000\n",
       "                                      Short Term   10110.000000\n",
       "                      Rent            Long Term    17771.000000\n",
       "                                      Short Term    9936.000000\n",
       "Educational Expenses  Home Mortgage   Long Term     7094.000000\n",
       "                                      Short Term    7629.000000\n",
       "                      Own Home        Long Term     6453.000000\n",
       "                                      Short Term    5381.500000\n",
       "                      Rent            Long Term     8214.000000\n",
       "                                      Short Term    5056.000000\n",
       "Home Improvements     Home Mortgage   Long Term    19944.500000\n",
       "                                      Short Term    9834.000000\n",
       "                      Own Home        Long Term    19135.000000\n",
       "                                      Short Term    9325.000000\n",
       "                      Rent            Long Term    16356.500000\n",
       "                                      Short Term    8174.500000\n",
       "Medical Bills         Home Mortgage   Long Term    16558.500000\n",
       "                                      Short Term    6023.000000\n",
       "                      Own Home        Long Term    12879.000000\n",
       "                                      Short Term    5684.500000\n",
       "                      Rent            Long Term    14010.000000\n",
       "                                      Short Term    5450.000000\n",
       "Other                 Home Mortgage   Long Term    16390.000000\n",
       "                                      Short Term    7006.000000\n",
       "                      Own Home        Long Term    15803.000000\n",
       "                                      Short Term    6388.500000\n",
       "                      Rent            Long Term    13250.000000\n",
       "                                      Short Term    6024.000000\n",
       "Take a Trip           Home Mortgage   Long Term    11975.000000\n",
       "                                      Short Term    4889.500000\n",
       "                      Own Home        Long Term    14889.000000\n",
       "                                      Short Term    5080.500000\n",
       "                      Rent            Long Term    11663.000000\n",
       "                                      Short Term    4921.000000\n",
       "Name: Current Loan Amount, dtype: float64"
      ]
     },
     "execution_count": 46,
     "metadata": {},
     "output_type": "execute_result"
    }
   ],
   "source": [
    "df.groupby(['Purpose','Home Ownership','Term'])['Current Loan Amount'].median()"
   ]
  },
  {
   "cell_type": "code",
   "execution_count": 47,
   "metadata": {},
   "outputs": [],
   "source": [
    "df['Current Loan Amount'].fillna(df.groupby(['Purpose','Home Ownership','Term'])\\\n",
    "                                            ['Current Loan Amount'].transform('median'), inplace = True)"
   ]
  },
  {
   "cell_type": "markdown",
   "metadata": {},
   "source": [
    "#### Imputing Null Values Through Regression"
   ]
  },
  {
   "cell_type": "code",
   "execution_count": 48,
   "metadata": {},
   "outputs": [
    {
     "data": {
      "text/plain": [
       "((170837, 16), (44411, 16))"
      ]
     },
     "execution_count": 48,
     "metadata": {},
     "output_type": "execute_result"
    }
   ],
   "source": [
    "train = df[df['Annual Income'].notnull()]\n",
    "test = df[df['Annual Income'].isnull()]\n",
    "train.shape,test.shape"
   ]
  },
  {
   "cell_type": "code",
   "execution_count": 49,
   "metadata": {},
   "outputs": [],
   "source": [
    "#Returns a list of column names that were over the correlation threshold for target column\n",
    "def correlatedColumns(data,col, threshold) :\n",
    "    feature_list = []\n",
    "    corr_data = abs(data.corr()[col])\n",
    "    \n",
    "    for ind in corr_data.index :\n",
    "        if corr_data[ind] >= threshold :\n",
    "            feature_list.append(ind)\n",
    "    return feature_list\n",
    "        "
   ]
  },
  {
   "cell_type": "code",
   "execution_count": 50,
   "metadata": {},
   "outputs": [
    {
     "data": {
      "text/plain": [
       "['Current Loan Amount',\n",
       " 'Annual Income',\n",
       " 'Monthly Debt',\n",
       " 'Current Credit Balance']"
      ]
     },
     "execution_count": 50,
     "metadata": {},
     "output_type": "execute_result"
    }
   ],
   "source": [
    "corr_list = correlatedColumns(train,'Annual Income',0.30)\n",
    "corr_list"
   ]
  },
  {
   "cell_type": "code",
   "execution_count": 51,
   "metadata": {},
   "outputs": [
    {
     "data": {
      "image/png": "[encoded data removed]",
      "text/plain": [
       "<Figure size 432x288 with 2 Axes>"
      ]
     },
     "metadata": {
      "needs_background": "light"
     },
     "output_type": "display_data"
    }
   ],
   "source": [
    "sns.heatmap(train[corr_list].corr(),annot = True)\n",
    "plt.show()"
   ]
  },
  {
   "cell_type": "code",
   "execution_count": 52,
   "metadata": {},
   "outputs": [],
   "source": [
    "num_list = ['Current Loan Amount','Monthly Debt','Current Credit Balance']"
   ]
  },
  {
   "cell_type": "code",
   "execution_count": 53,
   "metadata": {},
   "outputs": [],
   "source": [
    "def best_transformation(data, col) :\n",
    "    copy_df = data.copy()\n",
    "    series = copy_df.loc[:,col]\n",
    "    trans_data = stats.boxcox(series+1)\n",
    "    \n",
    "    \n",
    "    fig, (ax1,ax2) = plt.subplots(nrows = 1,ncols = 2, figsize = (15,6))\n",
    "    \n",
    "    \n",
    "    plt.suptitle('Transformation of column: {}'.format(col), fontsize = 15, fontweight = 'bold')\n",
    "    \n",
    "    sns.distplot(series, ax = ax1)\n",
    "    sns.distplot(trans_data[0], ax = ax2)\n",
    "    \n",
    "    ax1.set_xlabel('Before Transformation', fontsize = 12)\n",
    "    ax2.set_xlabel('After Transformation', fontsize = 12)\n",
    "    \n",
    "    plt.show()\n",
    "    \n",
    "    print('Best power value: {:.2f}'.format(trans_data[1]))\n",
    "    \n",
    "    #CLT is reference to central limit theorem\n",
    "    CLT_before_list = [stats.skew(series),stats.kurtosis(series),np.mean(series),np.median(series)]\n",
    "    CLT_after_list = [stats.skew(trans_data[0]),\n",
    "                      stats.kurtosis(trans_data[0]),\n",
    "                      np.mean(trans_data[0]),\n",
    "                      np.median(trans_data[0])]\n",
    "    \n",
    "    CLT_before_series = pd.Series(CLT_before_list, index = ['Skew','Kurtosis','Mean','Median'])\n",
    "    CLT_after_series = pd.Series(CLT_after_list, index = ['Skew','Kurtosis','Mean','Median'])\n",
    "    \n",
    "    merged_data = pd.concat([CLT_before_series,CLT_after_series],axis = 1)\n",
    "    merged_data.rename(columns = {0:'Before Transformation', 1 : 'After Transformation'},inplace = True)\n",
    "    return merged_data\n",
    "    \n",
    "    \n",
    "\n",
    "    \n",
    "    "
   ]
  },
  {
   "cell_type": "code",
   "execution_count": 54,
   "metadata": {},
   "outputs": [
    {
     "data": {
      "image/png": "[encoded data removed]",
      "text/plain": [
       "<Figure size 1080x432 with 2 Axes>"
      ]
     },
     "metadata": {
      "needs_background": "light"
     },
     "output_type": "display_data"
    },
    {
     "name": "stdout",
     "output_type": "stream",
     "text": [
      "Best power value: 0.34\n"
     ]
    },
    {
     "data": {
      "text/html": [
       "<div>\n",
       "<style scoped>\n",
       "    .dataframe tbody tr th:only-of-type {\n",
       "        vertical-align: middle;\n",
       "    }\n",
       "\n",
       "    .dataframe tbody tr th {\n",
       "        vertical-align: top;\n",
       "    }\n",
       "\n",
       "    .dataframe thead th {\n",
       "        text-align: right;\n",
       "    }\n",
       "</style>\n",
       "<table border=\"1\" class=\"dataframe\">\n",
       "  <thead>\n",
       "    <tr style=\"text-align: right;\">\n",
       "      <th></th>\n",
       "      <th>Before Transformation</th>\n",
       "      <th>After Transformation</th>\n",
       "    </tr>\n",
       "  </thead>\n",
       "  <tbody>\n",
       "    <tr>\n",
       "      <td>Skew</td>\n",
       "      <td>0.947146</td>\n",
       "      <td>-0.007971</td>\n",
       "    </tr>\n",
       "    <tr>\n",
       "      <td>Kurtosis</td>\n",
       "      <td>0.528968</td>\n",
       "      <td>-0.145146</td>\n",
       "    </tr>\n",
       "    <tr>\n",
       "      <td>Mean</td>\n",
       "      <td>13491.596683</td>\n",
       "      <td>68.199396</td>\n",
       "    </tr>\n",
       "    <tr>\n",
       "      <td>Median</td>\n",
       "      <td>12020.000000</td>\n",
       "      <td>68.027010</td>\n",
       "    </tr>\n",
       "  </tbody>\n",
       "</table>\n",
       "</div>"
      ],
      "text/plain": [
       "          Before Transformation  After Transformation\n",
       "Skew                   0.947146             -0.007971\n",
       "Kurtosis               0.528968             -0.145146\n",
       "Mean               13491.596683             68.199396\n",
       "Median             12020.000000             68.027010"
      ]
     },
     "execution_count": 54,
     "metadata": {},
     "output_type": "execute_result"
    }
   ],
   "source": [
    "best_transformation(train,'Current Loan Amount')"
   ]
  },
  {
   "cell_type": "code",
   "execution_count": 55,
   "metadata": {},
   "outputs": [
    {
     "data": {
      "image/png": "[encoded data removed]",
      "text/plain": [
       "<Figure size 1080x432 with 2 Axes>"
      ]
     },
     "metadata": {
      "needs_background": "light"
     },
     "output_type": "display_data"
    },
    {
     "name": "stdout",
     "output_type": "stream",
     "text": [
      "Best power value: 0.38\n"
     ]
    },
    {
     "data": {
      "text/html": [
       "<div>\n",
       "<style scoped>\n",
       "    .dataframe tbody tr th:only-of-type {\n",
       "        vertical-align: middle;\n",
       "    }\n",
       "\n",
       "    .dataframe tbody tr th {\n",
       "        vertical-align: top;\n",
       "    }\n",
       "\n",
       "    .dataframe thead th {\n",
       "        text-align: right;\n",
       "    }\n",
       "</style>\n",
       "<table border=\"1\" class=\"dataframe\">\n",
       "  <thead>\n",
       "    <tr style=\"text-align: right;\">\n",
       "      <th></th>\n",
       "      <th>Before Transformation</th>\n",
       "      <th>After Transformation</th>\n",
       "    </tr>\n",
       "  </thead>\n",
       "  <tbody>\n",
       "    <tr>\n",
       "      <td>Skew</td>\n",
       "      <td>2.051819</td>\n",
       "      <td>0.048793</td>\n",
       "    </tr>\n",
       "    <tr>\n",
       "      <td>Kurtosis</td>\n",
       "      <td>16.605458</td>\n",
       "      <td>0.647887</td>\n",
       "    </tr>\n",
       "    <tr>\n",
       "      <td>Mean</td>\n",
       "      <td>960.422995</td>\n",
       "      <td>30.748301</td>\n",
       "    </tr>\n",
       "    <tr>\n",
       "      <td>Median</td>\n",
       "      <td>841.010000</td>\n",
       "      <td>30.760784</td>\n",
       "    </tr>\n",
       "  </tbody>\n",
       "</table>\n",
       "</div>"
      ],
      "text/plain": [
       "          Before Transformation  After Transformation\n",
       "Skew                   2.051819              0.048793\n",
       "Kurtosis              16.605458              0.647887\n",
       "Mean                 960.422995             30.748301\n",
       "Median               841.010000             30.760784"
      ]
     },
     "execution_count": 55,
     "metadata": {},
     "output_type": "execute_result"
    }
   ],
   "source": [
    "best_transformation(train,'Monthly Debt')"
   ]
  },
  {
   "cell_type": "code",
   "execution_count": 56,
   "metadata": {},
   "outputs": [
    {
     "data": {
      "image/png": "[encoded data removed]",
      "text/plain": [
       "<Figure size 1080x432 with 2 Axes>"
      ]
     },
     "metadata": {
      "needs_background": "light"
     },
     "output_type": "display_data"
    },
    {
     "name": "stdout",
     "output_type": "stream",
     "text": [
      "Best power value: 0.27\n"
     ]
    },
    {
     "data": {
      "text/html": [
       "<div>\n",
       "<style scoped>\n",
       "    .dataframe tbody tr th:only-of-type {\n",
       "        vertical-align: middle;\n",
       "    }\n",
       "\n",
       "    .dataframe tbody tr th {\n",
       "        vertical-align: top;\n",
       "    }\n",
       "\n",
       "    .dataframe thead th {\n",
       "        text-align: right;\n",
       "    }\n",
       "</style>\n",
       "<table border=\"1\" class=\"dataframe\">\n",
       "  <thead>\n",
       "    <tr style=\"text-align: right;\">\n",
       "      <th></th>\n",
       "      <th>Before Transformation</th>\n",
       "      <th>After Transformation</th>\n",
       "    </tr>\n",
       "  </thead>\n",
       "  <tbody>\n",
       "    <tr>\n",
       "      <td>Skew</td>\n",
       "      <td>12.530417</td>\n",
       "      <td>0.190359</td>\n",
       "    </tr>\n",
       "    <tr>\n",
       "      <td>Kurtosis</td>\n",
       "      <td>547.007064</td>\n",
       "      <td>2.322542</td>\n",
       "    </tr>\n",
       "    <tr>\n",
       "      <td>Mean</td>\n",
       "      <td>15401.056341</td>\n",
       "      <td>43.191468</td>\n",
       "    </tr>\n",
       "    <tr>\n",
       "      <td>Median</td>\n",
       "      <td>11040.000000</td>\n",
       "      <td>42.942675</td>\n",
       "    </tr>\n",
       "  </tbody>\n",
       "</table>\n",
       "</div>"
      ],
      "text/plain": [
       "          Before Transformation  After Transformation\n",
       "Skew                  12.530417              0.190359\n",
       "Kurtosis             547.007064              2.322542\n",
       "Mean               15401.056341             43.191468\n",
       "Median             11040.000000             42.942675"
      ]
     },
     "execution_count": 56,
     "metadata": {},
     "output_type": "execute_result"
    }
   ],
   "source": [
    "best_transformation(train,'Current Credit Balance')"
   ]
  },
  {
   "cell_type": "code",
   "execution_count": 57,
   "metadata": {},
   "outputs": [],
   "source": [
    "for col in num_list :\n",
    "    train[col],fitted_lambda = stats.boxcox(train[col]+1)\n",
    "    test[col] = stats.boxcox(test[col]+1,fitted_lambda)"
   ]
  },
  {
   "cell_type": "code",
   "execution_count": 58,
   "metadata": {},
   "outputs": [],
   "source": [
    "df_copy = pd.concat([train,test],sort = False, ignore_index = True)\n",
    "df_imp = df_copy[corr_list+['Term','Years in current job','Home Ownership','Purpose']]"
   ]
  },
  {
   "cell_type": "code",
   "execution_count": 59,
   "metadata": {},
   "outputs": [],
   "source": [
    "def impute_val(data, target) :\n",
    "    data = pd.get_dummies(data, drop_first = True)\n",
    "    \n",
    "    filled = data[data[target].notnull()]\n",
    "    missing = data[data[target].isnull()]\n",
    "    missing.drop(target,axis = 1, inplace = True)\n",
    "    \n",
    "    X = filled.drop(target,axis = 1)\n",
    "    y = filled[target]\n",
    "    \n",
    "    scaler = MinMaxScaler()\n",
    "    X_train,X_test,y_train,y_test = train_test_split(X,y,train_size = 0.8,random_state = 0)\n",
    "    X_train = scaler.fit_transform(X_train)\n",
    "    X_test = scaler.transform(X_test)\n",
    "    \n",
    "    L = LinearRegression()\n",
    "    L.fit(X_train,y_train)\n",
    "    \n",
    "    print('r2 score is:',r2_score(y_test,L.predict(X_test)))\n",
    "    print('RMSE score is:', mean_squared_error(y_test,L.predict(X_test)) **.5)\n",
    "    print('\\n')\n",
    "    \n",
    "    X = scaler.fit_transform(X)\n",
    "    missing = scaler.transform(missing)\n",
    "    L.fit(X,y)\n",
    "    prediction = L.predict(missing)\n",
    "    df.loc[df[target].isnull(),target] = prediction\n",
    "    \n",
    "    print('The number of null values for column-{} is {}.'.format(target,df[target].isnull().sum()))\n",
    "    "
   ]
  },
  {
   "cell_type": "code",
   "execution_count": 60,
   "metadata": {},
   "outputs": [
    {
     "name": "stdout",
     "output_type": "stream",
     "text": [
      "r2 score is: 0.2133697823981081\n",
      "RMSE score is: 52866.29262817418\n",
      "\n",
      "\n",
      "The number of null values for column-Annual Income is 0.\n"
     ]
    }
   ],
   "source": [
    "impute_val(df_imp,'Annual Income')"
   ]
  },
  {
   "cell_type": "markdown",
   "metadata": {},
   "source": [
    "## Feature Engineering"
   ]
  },
  {
   "cell_type": "markdown",
   "metadata": {},
   "source": [
    "**Three new features that will help with loan status prediction are created.**\n",
    "* _**Credit Utilization**_\n",
    "* _**Debt to Income Ratio**_\n",
    "* _**Credit Remaining**_"
   ]
  },
  {
   "cell_type": "code",
   "execution_count": 61,
   "metadata": {},
   "outputs": [],
   "source": [
    "df['Credit Utilization'] = [(df.iloc[i,7] / (df.iloc[i,8]+1)) for i in range(len(df))]\n",
    "df['Debt to Income'] = [(df.iloc[i,3] / ((df.iloc[i,2]/12)+1)) for i in range(len(df))]\n",
    "df['Credit Remaining'] = [df.iloc[i,8] - df.iloc[i,7] for i in range(len(df))]"
   ]
  },
  {
   "cell_type": "markdown",
   "metadata": {},
   "source": [
    "## Encoding"
   ]
  },
  {
   "cell_type": "markdown",
   "metadata": {},
   "source": [
    "**The target variable and nomial independent variables are encoded to numbers.**"
   ]
  },
  {
   "cell_type": "code",
   "execution_count": 62,
   "metadata": {},
   "outputs": [],
   "source": [
    "df['Loan Status'] = df['Loan Status'].map({'Fully Paid' : 0,'Charged Off' : 1})"
   ]
  },
  {
   "cell_type": "code",
   "execution_count": 63,
   "metadata": {},
   "outputs": [],
   "source": [
    "df = pd.get_dummies(df,drop_first = True)"
   ]
  },
  {
   "cell_type": "markdown",
   "metadata": {},
   "source": [
    "## Model Selection"
   ]
  },
  {
   "cell_type": "markdown",
   "metadata": {},
   "source": [
    "**The dataframe without the target variable is assigned to X and the target column is assigned to y.**<br>\n",
    "**X and y are then split into train and validation sets.**<br>\n",
    "**Various paramters are used for different algorithms to determine the best model.** "
   ]
  },
  {
   "cell_type": "code",
   "execution_count": 64,
   "metadata": {},
   "outputs": [
    {
     "data": {
      "text/plain": [
       "((215248, 36), (215248,))"
      ]
     },
     "execution_count": 64,
     "metadata": {},
     "output_type": "execute_result"
    }
   ],
   "source": [
    "X = df.drop('Loan Status',axis = 1)\n",
    "y = df['Loan Status']\n",
    "X.shape,y.shape"
   ]
  },
  {
   "cell_type": "code",
   "execution_count": 65,
   "metadata": {},
   "outputs": [],
   "source": [
    "X_train,X_test,y_train,y_test = train_test_split(X,y,train_size = 0.80, random_state = 5, stratify = y)"
   ]
  },
  {
   "cell_type": "code",
   "execution_count": 66,
   "metadata": {},
   "outputs": [
    {
     "name": "stdout",
     "output_type": "stream",
     "text": [
      "Class weight = 4.46\n"
     ]
    }
   ],
   "source": [
    "class_weight = y_train.value_counts()[0]/y_train.value_counts()[1]\n",
    "print('Class weight = {:.2f}'.format(class_weight))\n",
    "weight_dict = {0 : 1.0, 1 : class_weight}"
   ]
  },
  {
   "cell_type": "markdown",
   "metadata": {},
   "source": [
    "#### Logistic Regression"
   ]
  },
  {
   "cell_type": "code",
   "execution_count": 67,
   "metadata": {},
   "outputs": [
    {
     "name": "stdout",
     "output_type": "stream",
     "text": [
      "Training done.\n"
     ]
    }
   ],
   "source": [
    "lr_grid = {'penalty' : ['l1','l2','elasticnet'],\n",
    "           'C' : [0.01,0.1,1,10,100],\n",
    "           'class_weight' : [weight_dict,'balanced']}\n",
    "\n",
    "lr = GridSearchCV(estimator = LogisticRegression(),\n",
    "                 param_grid = lr_grid,\n",
    "                 scoring = 'roc_auc',\n",
    "                 cv = 3,\n",
    "                 n_jobs = -1)\n",
    "\n",
    "lr.fit(X_train,y_train)\n",
    "\n",
    "print('Training done.')"
   ]
  },
  {
   "cell_type": "markdown",
   "metadata": {},
   "source": [
    "#### Random Forest Classifier"
   ]
  },
  {
   "cell_type": "code",
   "execution_count": 68,
   "metadata": {},
   "outputs": [
    {
     "name": "stdout",
     "output_type": "stream",
     "text": [
      "Training done.\n"
     ]
    }
   ],
   "source": [
    "rf_grid = {'max_depth' : range(2,6),\n",
    "           'min_samples_split' : range(10,21,2),\n",
    "           'max_features' : [0.4,0.5,0.6,'sqrt'],\n",
    "           'class_weight' : [None,weight_dict,'balanced','balanced_subsample'],\n",
    "           'max_samples' : [None, 0.5, 0.75]}\n",
    "\n",
    "rf = RandomizedSearchCV(RandomForestClassifier(n_estimators = 1000),\n",
    "                        param_distributions = rf_grid,\n",
    "                        scoring = 'roc_auc',\n",
    "                        cv = 3,\n",
    "                        n_iter = 10,\n",
    "                        n_jobs = -1)\n",
    "rf.fit(X_train,y_train)\n",
    "\n",
    "print('Training done.')"
   ]
  },
  {
   "cell_type": "markdown",
   "metadata": {},
   "source": [
    "#### Gradient Boosting Classifier"
   ]
  },
  {
   "cell_type": "code",
   "execution_count": 69,
   "metadata": {},
   "outputs": [
    {
     "name": "stdout",
     "output_type": "stream",
     "text": [
      "Training done.\n"
     ]
    }
   ],
   "source": [
    "gb_grid = {'learning_rate' : [0.05,0.1,0.2,0.3,0.4],\n",
    "           'n_estimators' : [200,500,1000,1250],\n",
    "           'min_samples_split' : range(10,21,2),\n",
    "           'max_depth' : range(2,6),\n",
    "           'max_features' : [0.4,0.5,0.6,'sqrt'],\n",
    "           'subsample' : [0.5,0.75,1.0]}\n",
    "\n",
    "gb = RandomizedSearchCV(GradientBoostingClassifier(),\n",
    "                        param_distributions = gb_grid,\n",
    "                        scoring = 'roc_auc',\n",
    "                        cv = 3,\n",
    "                        n_iter = 10,\n",
    "                        n_jobs = -1)\n",
    "gb.fit(X_train,y_train)\n",
    "\n",
    "print('Training done.')"
   ]
  },
  {
   "cell_type": "markdown",
   "metadata": {},
   "source": [
    "#### Extreme Gradient Boosting Classifier"
   ]
  },
  {
   "cell_type": "code",
   "execution_count": 70,
   "metadata": {},
   "outputs": [
    {
     "name": "stdout",
     "output_type": "stream",
     "text": [
      "Training done.\n"
     ]
    }
   ],
   "source": [
    "xg_grid = {'learning_rate': [0.05,0.1,0.2,0.3,0.4],\n",
    "           'n_estimators' : [200,500,1000,1250],\n",
    "           'max_depth' : range(2,6),\n",
    "           'min_child_weight' : [2,3,4,5],\n",
    "           'subsample' : [0.5,0.75,1.0],\n",
    "           'colsample_bytree' : [0.4,0.5,0.6,'sqrt'],\n",
    "           'scale_pos_weight' : [class_weight - 1, class_weight, class_weight + 1]}\n",
    "\n",
    "xg = RandomizedSearchCV(XGBClassifier(),\n",
    "                        param_distributions = xg_grid,\n",
    "                        scoring = 'roc_auc',\n",
    "                        cv = 3,\n",
    "                        n_iter = 10,\n",
    "                        n_jobs = -1)\n",
    "xg.fit(X_train,y_train)\n",
    "\n",
    "print('Training done.')"
   ]
  },
  {
   "cell_type": "markdown",
   "metadata": {},
   "source": [
    "**The receiving operating characteristic curve is visualized to determine the best model.**"
   ]
  },
  {
   "cell_type": "code",
   "execution_count": 71,
   "metadata": {},
   "outputs": [],
   "source": [
    "def plot_roc_auc(dictionary) :\n",
    "    opacity = 0.3\n",
    "    \n",
    "    plt.figure(figsize = (8,8))\n",
    "    plt.plot([0,1],[0,1], linestyle = '--', label = 'No Skill')\n",
    "    \n",
    "    for name,alg in dictionary.items():\n",
    "        proba = alg.predict_proba(X_test)[:,1]\n",
    "        score = roc_auc_score(y_test,proba).round(decimals = 5)\n",
    "        fpr,tpr,_ = roc_curve(y_test,proba)\n",
    "        plt.plot(fpr, tpr, linewidth = 2, label = name + ' ROC: ' + str(score), alpha = opacity)\n",
    "        opacity += 0.2\n",
    "    \n",
    "    plt.xlim(-0.025,1.025)\n",
    "    plt.ylim(-0.025,1.025)\n",
    "    plt.xlabel('False Positive Rate', fontsize = 15)\n",
    "    plt.ylabel('True Positive Rate', fontsize = 15)\n",
    "    \n",
    "    plt.grid(linestyle = '--')\n",
    "    \n",
    "    plt.legend()\n",
    "    \n",
    "    plt.suptitle('Receiving Operating Characteristic Area Under the Curve', fontsize = 30)\n",
    "    plt.tight_layout(rect = [0,0,1,0.90])"
   ]
  },
  {
   "cell_type": "code",
   "execution_count": 72,
   "metadata": {},
   "outputs": [],
   "source": [
    "clfs_dict = {'Logistic Regression' : lr,\n",
    "             'Random Forest Classifier' : rf,\n",
    "             'Gradient Boosting Classifier' : gb,\n",
    "             'Extreme Gradient Boosting Classifier' : xg}"
   ]
  },
  {
   "cell_type": "code",
   "execution_count": 73,
   "metadata": {},
   "outputs": [
    {
     "data": {
      "image/png": "[encoded data removed]",
      "text/plain": [
       "<Figure size 576x576 with 1 Axes>"
      ]
     },
     "metadata": {
      "needs_background": "light"
     },
     "output_type": "display_data"
    }
   ],
   "source": [
    "plot_roc_auc(clfs_dict)"
   ]
  },
  {
   "cell_type": "markdown",
   "metadata": {},
   "source": [
    "**After choosing the optimal model, the train and test scores between various metrics are compared to ensure the model is not underfitting or overfitting.**"
   ]
  },
  {
   "cell_type": "code",
   "execution_count": 74,
   "metadata": {},
   "outputs": [],
   "source": [
    "clf = xg.best_estimator_"
   ]
  },
  {
   "cell_type": "code",
   "execution_count": 75,
   "metadata": {},
   "outputs": [],
   "source": [
    "y_train_pred = clf.predict(X_train)\n",
    "y_test_pred = clf.predict(X_test)"
   ]
  },
  {
   "cell_type": "code",
   "execution_count": 76,
   "metadata": {},
   "outputs": [],
   "source": [
    "def metric_df(X_train,X_test,train_pred,test_pred) :\n",
    "    train_list = []\n",
    "    test_list = []\n",
    "    \n",
    "    train_list.append(accuracy_score(y_train,train_pred))\n",
    "    train_list.append(recall_score(y_train,train_pred))\n",
    "    train_list.append(precision_score(y_train,train_pred))\n",
    "    train_list.append(f1_score(y_train,train_pred))\n",
    "    \n",
    "    test_list.append(accuracy_score(y_test,test_pred))\n",
    "    test_list.append(recall_score(y_test,test_pred))\n",
    "    test_list.append(precision_score(y_test,test_pred))\n",
    "    test_list.append(f1_score(y_test,test_pred))\n",
    "            \n",
    "    metric = pd.DataFrame(data = [train_list,test_list],\n",
    "                        columns = ['accuracy','recall_score','precision_score','f1_score'],\n",
    "                        index = ['train','test'])\n",
    "    return metric.T\n",
    "    "
   ]
  },
  {
   "cell_type": "code",
   "execution_count": 77,
   "metadata": {
    "scrolled": false
   },
   "outputs": [
    {
     "data": {
      "text/html": [
       "<div>\n",
       "<style scoped>\n",
       "    .dataframe tbody tr th:only-of-type {\n",
       "        vertical-align: middle;\n",
       "    }\n",
       "\n",
       "    .dataframe tbody tr th {\n",
       "        vertical-align: top;\n",
       "    }\n",
       "\n",
       "    .dataframe thead th {\n",
       "        text-align: right;\n",
       "    }\n",
       "</style>\n",
       "<table border=\"1\" class=\"dataframe\">\n",
       "  <thead>\n",
       "    <tr style=\"text-align: right;\">\n",
       "      <th></th>\n",
       "      <th>train</th>\n",
       "      <th>test</th>\n",
       "    </tr>\n",
       "  </thead>\n",
       "  <tbody>\n",
       "    <tr>\n",
       "      <td>accuracy</td>\n",
       "      <td>0.793267</td>\n",
       "      <td>0.771475</td>\n",
       "    </tr>\n",
       "    <tr>\n",
       "      <td>recall_score</td>\n",
       "      <td>0.790263</td>\n",
       "      <td>0.715735</td>\n",
       "    </tr>\n",
       "    <tr>\n",
       "      <td>precision_score</td>\n",
       "      <td>0.462440</td>\n",
       "      <td>0.426327</td>\n",
       "    </tr>\n",
       "    <tr>\n",
       "      <td>f1_score</td>\n",
       "      <td>0.583457</td>\n",
       "      <td>0.534362</td>\n",
       "    </tr>\n",
       "  </tbody>\n",
       "</table>\n",
       "</div>"
      ],
      "text/plain": [
       "                   train     test\n",
       "accuracy        0.793267 0.771475\n",
       "recall_score    0.790263 0.715735\n",
       "precision_score 0.462440 0.426327\n",
       "f1_score        0.583457 0.534362"
      ]
     },
     "execution_count": 77,
     "metadata": {},
     "output_type": "execute_result"
    }
   ],
   "source": [
    "metric_df(X_train,X_test,y_train_pred,y_test_pred)"
   ]
  },
  {
   "cell_type": "markdown",
   "metadata": {},
   "source": [
    "## Business Decision"
   ]
  },
  {
   "cell_type": "markdown",
   "metadata": {},
   "source": [
    "**The threshold is adjusted to return the maximum F1 score for the model.**\n",
    "* _**Note: F1 score is used as the metric assuming the opportunity-loss due to false positives is equal to the real-loss due to false negatives. If revenue loss due to defaulted loans outweigh profit gained from fully paid loans, then the threshold should be adjusted so that the number of false negatives is minimized while retaining a low number of false positive . Conversely, if profit gained from fully paid loans outweigh revenue loss due to defaulted loans, then the threshold should be adjusted so that the number of false positives is minimized while retaining a low number of false negative.**_"
   ]
  },
  {
   "cell_type": "code",
   "execution_count": 78,
   "metadata": {},
   "outputs": [],
   "source": [
    "proba = clf.predict_proba(X_test)[:,1]\n",
    "fpr,tpr,thresholds = roc_curve(y_test,proba)"
   ]
  },
  {
   "cell_type": "code",
   "execution_count": 79,
   "metadata": {},
   "outputs": [],
   "source": [
    "def best_f1(prob_pred,thresholds):\n",
    "    f1_list = []\n",
    "    for thresh in thresholds:\n",
    "        pred = np.where(prob_pred > thresh,1,0)\n",
    "        f1_list.append(f1_score(y_test,pred))\n",
    "        \n",
    "    f1_df = pd.DataFrame(data = {'threshold' : thresholds,\n",
    "                                 'f1_score' : f1_list})\n",
    "    opt_thresh = f1_df.loc[f1_df['f1_score'] == f1_df['f1_score'].max(),'threshold'].values\n",
    "    y_pred = np.where(prob_pred > opt_thresh,1,0)\n",
    "    \n",
    "    return y_pred"
   ]
  },
  {
   "cell_type": "code",
   "execution_count": 80,
   "metadata": {},
   "outputs": [],
   "source": [
    "final_pred = best_f1(proba,thresholds)"
   ]
  },
  {
   "cell_type": "code",
   "execution_count": 81,
   "metadata": {},
   "outputs": [],
   "source": [
    "def final_df(test,pred) :\n",
    "    final_list = []\n",
    "    \n",
    "    final_list.append(accuracy_score(test,pred))\n",
    "    final_list.append(recall_score(test,pred))\n",
    "    final_list.append(precision_score(test,pred))\n",
    "    final_list.append(f1_score(test,pred))\n",
    "    \n",
    "    final = pd.DataFrame(data = [final_list],\n",
    "                        columns = ['accuracy','recall_score','precision_score','f1_score'],\n",
    "                        index = ['final_score'])\n",
    "    \n",
    "    return final.T"
   ]
  },
  {
   "cell_type": "code",
   "execution_count": 82,
   "metadata": {},
   "outputs": [
    {
     "data": {
      "text/html": [
       "<div>\n",
       "<style scoped>\n",
       "    .dataframe tbody tr th:only-of-type {\n",
       "        vertical-align: middle;\n",
       "    }\n",
       "\n",
       "    .dataframe tbody tr th {\n",
       "        vertical-align: top;\n",
       "    }\n",
       "\n",
       "    .dataframe thead th {\n",
       "        text-align: right;\n",
       "    }\n",
       "</style>\n",
       "<table border=\"1\" class=\"dataframe\">\n",
       "  <thead>\n",
       "    <tr style=\"text-align: right;\">\n",
       "      <th></th>\n",
       "      <th>final_score</th>\n",
       "    </tr>\n",
       "  </thead>\n",
       "  <tbody>\n",
       "    <tr>\n",
       "      <td>accuracy</td>\n",
       "      <td>0.818165</td>\n",
       "    </tr>\n",
       "    <tr>\n",
       "      <td>recall_score</td>\n",
       "      <td>0.598707</td>\n",
       "    </tr>\n",
       "    <tr>\n",
       "      <td>precision_score</td>\n",
       "      <td>0.503143</td>\n",
       "    </tr>\n",
       "    <tr>\n",
       "      <td>f1_score</td>\n",
       "      <td>0.546781</td>\n",
       "    </tr>\n",
       "  </tbody>\n",
       "</table>\n",
       "</div>"
      ],
      "text/plain": [
       "                 final_score\n",
       "accuracy            0.818165\n",
       "recall_score        0.598707\n",
       "precision_score     0.503143\n",
       "f1_score            0.546781"
      ]
     },
     "execution_count": 82,
     "metadata": {},
     "output_type": "execute_result"
    }
   ],
   "source": [
    "final_df(y_test,final_pred)"
   ]
  },
  {
   "cell_type": "code",
   "execution_count": 83,
   "metadata": {},
   "outputs": [],
   "source": [
    "def plot_cm(test,pred):\n",
    "    cm_reg = confusion_matrix(test,pred)\n",
    "    cm_norm = confusion_matrix(test,pred,normalize = 'true')\n",
    "    \n",
    "    fig, axs = plt.subplots(ncols = 2, figsize = (14,6))\n",
    "    \n",
    "    sns.heatmap(cm_reg, annot = True,cmap = 'Blues', fmt = 'g', cbar = False, ax = axs[0])\n",
    "    axs[0].set_xticklabels(['Fully Paid','Charged Off'], rotation = 40)\n",
    "    axs[0].set_yticklabels(['Fully Paid', 'Charged Off'], rotation = 0)\n",
    "    axs[0].set_xlabel('Predicted Label', fontsize = 15)\n",
    "    axs[0].set_ylabel('True Label',fontsize = 15)\n",
    "    axs[0].set_title('Confusion Matrix Real Values', fontsize = 20)\n",
    "    \n",
    "    sns.heatmap(cm_norm, annot = True,cmap = 'Blues', fmt = '.2g', cbar = False, ax = axs[1])\n",
    "    axs[1].set_xticklabels(['Fully Paid','Charged Off'], rotation = 40)\n",
    "    axs[1].set_yticklabels(['Fully Paid', 'Charged Off'], rotation = 0)\n",
    "    axs[1].set_xlabel('Predicted Label', fontsize = 15)\n",
    "    axs[1].set_ylabel('True Label',fontsize = 15)\n",
    "    axs[1].set_title('Confusion Matrix Normalized Values', fontsize =  20)\n",
    "    \n",
    "    fig.tight_layout()"
   ]
  },
  {
   "cell_type": "code",
   "execution_count": 84,
   "metadata": {},
   "outputs": [
    {
     "data": {
      "image/png": "[encoded data removed]",
      "text/plain": [
       "<Figure size 1008x432 with 2 Axes>"
      ]
     },
     "metadata": {
      "needs_background": "light"
     },
     "output_type": "display_data"
    }
   ],
   "source": [
    "plot_cm(y_test,final_pred)"
   ]
  },
  {
   "cell_type": "markdown",
   "metadata": {},
   "source": [
    "**A bar graph is visualized to outline the top five features for predicting loan status.**"
   ]
  },
  {
   "cell_type": "code",
   "execution_count": 85,
   "metadata": {},
   "outputs": [],
   "source": [
    "def imp_features(alg) :\n",
    "    importance = pd.DataFrame(data = alg.feature_importances_, index = X.columns, columns = ['importance'])\n",
    "    importance = importance.sort_values(by = 'importance',ascending = False).head()\n",
    "    return importance"
   ]
  },
  {
   "cell_type": "code",
   "execution_count": 86,
   "metadata": {},
   "outputs": [
    {
     "data": {
      "text/html": [
       "<div>\n",
       "<style scoped>\n",
       "    .dataframe tbody tr th:only-of-type {\n",
       "        vertical-align: middle;\n",
       "    }\n",
       "\n",
       "    .dataframe tbody tr th {\n",
       "        vertical-align: top;\n",
       "    }\n",
       "\n",
       "    .dataframe thead th {\n",
       "        text-align: right;\n",
       "    }\n",
       "</style>\n",
       "<table border=\"1\" class=\"dataframe\">\n",
       "  <thead>\n",
       "    <tr style=\"text-align: right;\">\n",
       "      <th></th>\n",
       "      <th>importance</th>\n",
       "    </tr>\n",
       "  </thead>\n",
       "  <tbody>\n",
       "    <tr>\n",
       "      <td>Credit Score</td>\n",
       "      <td>0.294868</td>\n",
       "    </tr>\n",
       "    <tr>\n",
       "      <td>Term_Short Term</td>\n",
       "      <td>0.175320</td>\n",
       "    </tr>\n",
       "    <tr>\n",
       "      <td>Current Loan Amount</td>\n",
       "      <td>0.083375</td>\n",
       "    </tr>\n",
       "    <tr>\n",
       "      <td>Years in current job_unknown</td>\n",
       "      <td>0.037741</td>\n",
       "    </tr>\n",
       "    <tr>\n",
       "      <td>Number of Credit Problems</td>\n",
       "      <td>0.033929</td>\n",
       "    </tr>\n",
       "  </tbody>\n",
       "</table>\n",
       "</div>"
      ],
      "text/plain": [
       "                              importance\n",
       "Credit Score                    0.294868\n",
       "Term_Short Term                 0.175320\n",
       "Current Loan Amount             0.083375\n",
       "Years in current job_unknown    0.037741\n",
       "Number of Credit Problems       0.033929"
      ]
     },
     "execution_count": 86,
     "metadata": {},
     "output_type": "execute_result"
    }
   ],
   "source": [
    "imp_features_df = imp_features(clf)\n",
    "imp_features_df"
   ]
  },
  {
   "cell_type": "code",
   "execution_count": 87,
   "metadata": {},
   "outputs": [],
   "source": [
    "def plot_imp_features() :\n",
    "    fig,ax = plt.subplots(figsize = (15,6))\n",
    "\n",
    "    ax.bar(x = imp_features_df.index,height = imp_features_df.importance.values)\n",
    "    ax.set_xticklabels(labels = imp_features_df.index, rotation = 40)\n",
    "\n",
    "    ax.set_title('Top Five Imporant Features', fontsize = 30)\n",
    "    fig.tight_layout(rect = [0,0,1,0.88])"
   ]
  },
  {
   "cell_type": "code",
   "execution_count": 88,
   "metadata": {},
   "outputs": [
    {
     "data": {
      "image/png": "[encoded data removed]",
      "text/plain": [
       "<Figure size 1080x432 with 1 Axes>"
      ]
     },
     "metadata": {
      "needs_background": "light"
     },
     "output_type": "display_data"
    }
   ],
   "source": [
    "plot_imp_features()"
   ]
  },
  {
   "cell_type": "markdown",
   "metadata": {},
   "source": [
    "**Based on the top five features, the following questions should be asked to a customer applying for a loan:**\n",
    "1. _**What is your credit score?**_\n",
    "2. _**Are you applying for a short or long term loan?**_\n",
    "3. _**What is the amount you are trying to borrow?**_\n",
    "4. _**How many years have you been in your current job?**_\n",
    "5. _**How many credit issues did you have in the past?**_\n"
   ]
  }
 ],
 "metadata": {
  "kernelspec": {
   "display_name": "Python 3",
   "language": "python",
   "name": "python3"
  },
  "language_info": {
   "codemirror_mode": {
    "name": "ipython",
    "version": 3
   },
   "file_extension": ".py",
   "mimetype": "text/x-python",
   "name": "python",
   "nbconvert_exporter": "python",
   "pygments_lexer": "ipython3",
   "version": "3.7.4"
  }
 },
 "nbformat": 4,
 "nbformat_minor": 2
}
